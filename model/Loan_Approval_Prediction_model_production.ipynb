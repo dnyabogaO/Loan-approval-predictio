{
 "cells": [
  {
   "cell_type": "markdown",
   "id": "110c2cde",
   "metadata": {},
   "source": [
    "# Loan Approval Prediction Machine Learning for Production\n",
    "We are going to solve the Loan Approval Prediction. This is a classification problem in which we need to classify whether the loan will be approved or not. classification refers to a predictive modeling problem where a class label is predicted for a given example of input data.\n",
    "\n",
    "In this case, the company maybe wants to automate the loan eligibility process (real-time) based on customer detail provided while filling out online application forms. These details are Gender, Marital Status, Education, number of Dependents, Income, Loan Amount, Credit History, and others.\n",
    "\n",
    "To automate this process, they have provided a dataset to identify the customer segments that are eligible for loan amounts so that they can specifically target these customers."
   ]
  },
  {
   "cell_type": "code",
   "execution_count": 2,
   "id": "8324a53b",
   "metadata": {},
   "outputs": [],
   "source": [
    "import pandas as pd\n",
    "import numpy as np\n",
    "import matplotlib.pyplot as plt\n",
    "%matplotlib inline\n",
    "import seaborn as sns\n",
    "from sklearn.experimental import enable_iterative_imputer\n",
    "from sklearn.impute import IterativeImputer\n",
    "from sklearn.model_selection import train_test_split\n",
    "from sklearn.model_selection import GridSearchCV\n",
    "from sklearn.linear_model import LogisticRegression\n",
    "from sklearn.metrics import fbeta_score, make_scorer,accuracy_score\n",
    "from imblearn.combine import SMOTEENN"
   ]
  },
  {
   "cell_type": "code",
   "execution_count": 3,
   "id": "63ee1d89",
   "metadata": {},
   "outputs": [],
   "source": [
    "import warnings\n",
    "warnings.filterwarnings('ignore')"
   ]
  },
  {
   "cell_type": "code",
   "execution_count": 4,
   "id": "cc406bc6",
   "metadata": {},
   "outputs": [],
   "source": [
    "df = pd.read_csv(\"C:/Users/Dickson/Downloads/Data Science tutorials/Data science project/Datasets/loan-approval-train.csv\")"
   ]
  },
  {
   "cell_type": "code",
   "execution_count": 5,
   "id": "6fce7faf",
   "metadata": {
    "scrolled": true
   },
   "outputs": [
    {
     "data": {
      "text/html": [
       "<div>\n",
       "<style scoped>\n",
       "    .dataframe tbody tr th:only-of-type {\n",
       "        vertical-align: middle;\n",
       "    }\n",
       "\n",
       "    .dataframe tbody tr th {\n",
       "        vertical-align: top;\n",
       "    }\n",
       "\n",
       "    .dataframe thead th {\n",
       "        text-align: right;\n",
       "    }\n",
       "</style>\n",
       "<table border=\"1\" class=\"dataframe\">\n",
       "  <thead>\n",
       "    <tr style=\"text-align: right;\">\n",
       "      <th></th>\n",
       "      <th>Loan_ID</th>\n",
       "      <th>Gender</th>\n",
       "      <th>Married</th>\n",
       "      <th>Dependents</th>\n",
       "      <th>Education</th>\n",
       "      <th>Self_Employed</th>\n",
       "      <th>ApplicantIncome</th>\n",
       "      <th>CoapplicantIncome</th>\n",
       "      <th>LoanAmount</th>\n",
       "      <th>Loan_Amount_Term</th>\n",
       "      <th>Credit_History</th>\n",
       "      <th>Property_Area</th>\n",
       "      <th>Loan_Status</th>\n",
       "    </tr>\n",
       "  </thead>\n",
       "  <tbody>\n",
       "    <tr>\n",
       "      <th>0</th>\n",
       "      <td>LP001002</td>\n",
       "      <td>Male</td>\n",
       "      <td>No</td>\n",
       "      <td>0</td>\n",
       "      <td>Graduate</td>\n",
       "      <td>No</td>\n",
       "      <td>5849</td>\n",
       "      <td>0.0</td>\n",
       "      <td>NaN</td>\n",
       "      <td>360.0</td>\n",
       "      <td>1.0</td>\n",
       "      <td>Urban</td>\n",
       "      <td>Y</td>\n",
       "    </tr>\n",
       "    <tr>\n",
       "      <th>1</th>\n",
       "      <td>LP001003</td>\n",
       "      <td>Male</td>\n",
       "      <td>Yes</td>\n",
       "      <td>1</td>\n",
       "      <td>Graduate</td>\n",
       "      <td>No</td>\n",
       "      <td>4583</td>\n",
       "      <td>1508.0</td>\n",
       "      <td>128.0</td>\n",
       "      <td>360.0</td>\n",
       "      <td>1.0</td>\n",
       "      <td>Rural</td>\n",
       "      <td>N</td>\n",
       "    </tr>\n",
       "    <tr>\n",
       "      <th>2</th>\n",
       "      <td>LP001005</td>\n",
       "      <td>Male</td>\n",
       "      <td>Yes</td>\n",
       "      <td>0</td>\n",
       "      <td>Graduate</td>\n",
       "      <td>Yes</td>\n",
       "      <td>3000</td>\n",
       "      <td>0.0</td>\n",
       "      <td>66.0</td>\n",
       "      <td>360.0</td>\n",
       "      <td>1.0</td>\n",
       "      <td>Urban</td>\n",
       "      <td>Y</td>\n",
       "    </tr>\n",
       "    <tr>\n",
       "      <th>3</th>\n",
       "      <td>LP001006</td>\n",
       "      <td>Male</td>\n",
       "      <td>Yes</td>\n",
       "      <td>0</td>\n",
       "      <td>Not Graduate</td>\n",
       "      <td>No</td>\n",
       "      <td>2583</td>\n",
       "      <td>2358.0</td>\n",
       "      <td>120.0</td>\n",
       "      <td>360.0</td>\n",
       "      <td>1.0</td>\n",
       "      <td>Urban</td>\n",
       "      <td>Y</td>\n",
       "    </tr>\n",
       "    <tr>\n",
       "      <th>4</th>\n",
       "      <td>LP001008</td>\n",
       "      <td>Male</td>\n",
       "      <td>No</td>\n",
       "      <td>0</td>\n",
       "      <td>Graduate</td>\n",
       "      <td>No</td>\n",
       "      <td>6000</td>\n",
       "      <td>0.0</td>\n",
       "      <td>141.0</td>\n",
       "      <td>360.0</td>\n",
       "      <td>1.0</td>\n",
       "      <td>Urban</td>\n",
       "      <td>Y</td>\n",
       "    </tr>\n",
       "  </tbody>\n",
       "</table>\n",
       "</div>"
      ],
      "text/plain": [
       "    Loan_ID Gender Married Dependents     Education Self_Employed  \\\n",
       "0  LP001002   Male      No          0      Graduate            No   \n",
       "1  LP001003   Male     Yes          1      Graduate            No   \n",
       "2  LP001005   Male     Yes          0      Graduate           Yes   \n",
       "3  LP001006   Male     Yes          0  Not Graduate            No   \n",
       "4  LP001008   Male      No          0      Graduate            No   \n",
       "\n",
       "   ApplicantIncome  CoapplicantIncome  LoanAmount  Loan_Amount_Term  \\\n",
       "0             5849                0.0         NaN             360.0   \n",
       "1             4583             1508.0       128.0             360.0   \n",
       "2             3000                0.0        66.0             360.0   \n",
       "3             2583             2358.0       120.0             360.0   \n",
       "4             6000                0.0       141.0             360.0   \n",
       "\n",
       "   Credit_History Property_Area Loan_Status  \n",
       "0             1.0         Urban           Y  \n",
       "1             1.0         Rural           N  \n",
       "2             1.0         Urban           Y  \n",
       "3             1.0         Urban           Y  \n",
       "4             1.0         Urban           Y  "
      ]
     },
     "execution_count": 5,
     "metadata": {},
     "output_type": "execute_result"
    }
   ],
   "source": [
    "df.head()"
   ]
  },
  {
   "cell_type": "markdown",
   "id": "f94e3cc2",
   "metadata": {},
   "source": [
    "Categorical Columns: Gender (Male/Female), Married (Yes/No), Number of dependents (Possible values:0,1,2,3+), Education (Graduate / Not Graduate), Self-Employed (No/Yes), credit history(Yes/No), Property Area (Rural/Semi-Urban/Urban) and Loan Status (Y/N)(i. e. Target variable).\n",
    "\n",
    "Numerical Columns: Loan ID, Applicant Income, Co-applicant Income, Loan Amount, and Loan amount term"
   ]
  },
  {
   "cell_type": "markdown",
   "id": "0b41b651",
   "metadata": {},
   "source": [
    "# Data Preprocessing\n",
    "Concatenating the train and test data for data preprocessing:"
   ]
  },
  {
   "cell_type": "markdown",
   "id": "4433d056",
   "metadata": {},
   "source": [
    "dropping the unwanted column :"
   ]
  },
  {
   "cell_type": "code",
   "execution_count": 6,
   "id": "856b41ec",
   "metadata": {},
   "outputs": [],
   "source": [
    "df.drop('Loan_ID', axis = 1, inplace = True)"
   ]
  },
  {
   "cell_type": "markdown",
   "id": "48362df4",
   "metadata": {},
   "source": [
    "Identify missing values :"
   ]
  },
  {
   "cell_type": "code",
   "execution_count": 7,
   "id": "736f9f01",
   "metadata": {
    "scrolled": true
   },
   "outputs": [
    {
     "data": {
      "text/plain": [
       "Gender               13\n",
       "Married               3\n",
       "Dependents           15\n",
       "Education             0\n",
       "Self_Employed        32\n",
       "ApplicantIncome       0\n",
       "CoapplicantIncome     0\n",
       "LoanAmount           22\n",
       "Loan_Amount_Term     14\n",
       "Credit_History       50\n",
       "Property_Area         0\n",
       "Loan_Status           0\n",
       "dtype: int64"
      ]
     },
     "execution_count": 7,
     "metadata": {},
     "output_type": "execute_result"
    }
   ],
   "source": [
    "df.isna().sum()"
   ]
  },
  {
   "cell_type": "code",
   "execution_count": 8,
   "id": "9e6d9f68",
   "metadata": {
    "scrolled": true
   },
   "outputs": [
    {
     "data": {
      "text/plain": [
       "Gender                object\n",
       "Married               object\n",
       "Dependents            object\n",
       "Education             object\n",
       "Self_Employed         object\n",
       "ApplicantIncome        int64\n",
       "CoapplicantIncome    float64\n",
       "LoanAmount           float64\n",
       "Loan_Amount_Term     float64\n",
       "Credit_History       float64\n",
       "Property_Area         object\n",
       "Loan_Status           object\n",
       "dtype: object"
      ]
     },
     "execution_count": 8,
     "metadata": {},
     "output_type": "execute_result"
    }
   ],
   "source": [
    "df.dtypes"
   ]
  },
  {
   "cell_type": "markdown",
   "id": "e6989459",
   "metadata": {},
   "source": [
    "Imputing the missing values:\n",
    "\n",
    "Fill null values with mode"
   ]
  },
  {
   "cell_type": "code",
   "execution_count": 9,
   "id": "4571a380",
   "metadata": {},
   "outputs": [],
   "source": [
    "for i in [df]:\n",
    "    i['Gender'] = i['Gender'].fillna(df.Gender.dropna().mode()[0])\n",
    "    i['Married'] = i['Married'].fillna(df.Married.dropna().mode()[0])\n",
    "    i['Dependents'] = i['Dependents'].fillna(df.Dependents.dropna().mode()[0])\n",
    "    i['Self_Employed'] = i['Self_Employed'].fillna(df.Self_Employed.dropna().mode()[0])\n",
    "    i['Credit_History'] = i['Credit_History'].fillna(df.Credit_History.dropna().mode()[0])"
   ]
  },
  {
   "cell_type": "code",
   "execution_count": 10,
   "id": "21b79c7d",
   "metadata": {
    "scrolled": false
   },
   "outputs": [
    {
     "data": {
      "text/plain": [
       "Gender                0\n",
       "Married               0\n",
       "Dependents            0\n",
       "Education             0\n",
       "Self_Employed         0\n",
       "ApplicantIncome       0\n",
       "CoapplicantIncome     0\n",
       "LoanAmount           22\n",
       "Loan_Amount_Term     14\n",
       "Credit_History        0\n",
       "Property_Area         0\n",
       "Loan_Status           0\n",
       "dtype: int64"
      ]
     },
     "execution_count": 10,
     "metadata": {},
     "output_type": "execute_result"
    }
   ],
   "source": [
    "df.isnull().sum()"
   ]
  },
  {
   "cell_type": "markdown",
   "id": "0aea1bd5",
   "metadata": {},
   "source": [
    "Now we will see the complete description of the continuous data as well as the categorical data\n",
    "\n",
    "Next, we will be using Iterative imputer for filling missing values of LoanAmount and Loan_Amount_Term"
   ]
  },
  {
   "cell_type": "code",
   "execution_count": 11,
   "id": "daa97d1d",
   "metadata": {},
   "outputs": [
    {
     "data": {
      "text/plain": [
       "(614, 12)"
      ]
     },
     "execution_count": 11,
     "metadata": {},
     "output_type": "execute_result"
    }
   ],
   "source": [
    "from sklearn.experimental import enable_iterative_imputer\n",
    "from sklearn.impute import IterativeImputer\n",
    "\n",
    "from sklearn.ensemble import RandomForestRegressor\n",
    "\n",
    "data = df.loc[:, ['LoanAmount','Loan_Amount_Term']]\n",
    "\n",
    "#Run imputer with a Random Forest estimator\n",
    "imp = IterativeImputer(RandomForestRegressor(), max_iter=10, random_state =0)\n",
    "data = pd.DataFrame(imp.fit_transform(data),columns=data.columns)\n",
    "df= df.combine_first(data)\n",
    "df.shape"
   ]
  },
  {
   "cell_type": "code",
   "execution_count": 12,
   "id": "8c037e53",
   "metadata": {
    "scrolled": false
   },
   "outputs": [
    {
     "data": {
      "text/plain": [
       "ApplicantIncome      0\n",
       "CoapplicantIncome    0\n",
       "Credit_History       0\n",
       "Dependents           0\n",
       "Education            0\n",
       "Gender               0\n",
       "LoanAmount           0\n",
       "Loan_Amount_Term     0\n",
       "Loan_Status          0\n",
       "Married              0\n",
       "Property_Area        0\n",
       "Self_Employed        0\n",
       "dtype: int64"
      ]
     },
     "execution_count": 12,
     "metadata": {},
     "output_type": "execute_result"
    }
   ],
   "source": [
    "df.isnull().sum()"
   ]
  },
  {
   "cell_type": "markdown",
   "id": "3bdfdcf1",
   "metadata": {},
   "source": [
    "So now as we have imputed all the missing values we go on to mapping the categorical variables with the integers."
   ]
  },
  {
   "cell_type": "code",
   "execution_count": 13,
   "id": "f6a1ec50",
   "metadata": {},
   "outputs": [],
   "source": [
    "for i in [df]:\n",
    "    i['Gender'] = i['Gender'].map({\"Male\":0, \"Female\":1}).astype(int)\n",
    "    i['Married'] = i['Married'].map({\"No\":0, \"Yes\":1}).astype(int)\n",
    "    i['Education'] = i['Education'].map({\"Not Graduate\":0, \"Graduate\":1}).astype(int)\n",
    "    i['Self_Employed'] = i['Self_Employed'].map({\"No\":0, \"Yes\":1}).astype(int)\n",
    "    i['Credit_History'] = i['Credit_History'].astype(int)"
   ]
  },
  {
   "cell_type": "code",
   "execution_count": 14,
   "id": "fd9b5881",
   "metadata": {},
   "outputs": [],
   "source": [
    "for i in [df]:\n",
    "    i['Property_Area'] = i['Property_Area'].map({\"Urban\":0, \"Rural\":1, \"Semiurban\":2}).astype(int)\n",
    "    i['Dependents'] = i['Dependents'].map({\"0\":0, \"1\":1, \"2\":2, \"3+\":3}).astype(int)\n",
    "    "
   ]
  },
  {
   "cell_type": "code",
   "execution_count": 15,
   "id": "745bf373",
   "metadata": {
    "scrolled": true
   },
   "outputs": [
    {
     "data": {
      "text/html": [
       "<div>\n",
       "<style scoped>\n",
       "    .dataframe tbody tr th:only-of-type {\n",
       "        vertical-align: middle;\n",
       "    }\n",
       "\n",
       "    .dataframe tbody tr th {\n",
       "        vertical-align: top;\n",
       "    }\n",
       "\n",
       "    .dataframe thead th {\n",
       "        text-align: right;\n",
       "    }\n",
       "</style>\n",
       "<table border=\"1\" class=\"dataframe\">\n",
       "  <thead>\n",
       "    <tr style=\"text-align: right;\">\n",
       "      <th></th>\n",
       "      <th>ApplicantIncome</th>\n",
       "      <th>CoapplicantIncome</th>\n",
       "      <th>Credit_History</th>\n",
       "      <th>Dependents</th>\n",
       "      <th>Education</th>\n",
       "      <th>Gender</th>\n",
       "      <th>LoanAmount</th>\n",
       "      <th>Loan_Amount_Term</th>\n",
       "      <th>Loan_Status</th>\n",
       "      <th>Married</th>\n",
       "      <th>Property_Area</th>\n",
       "      <th>Self_Employed</th>\n",
       "    </tr>\n",
       "  </thead>\n",
       "  <tbody>\n",
       "    <tr>\n",
       "      <th>67</th>\n",
       "      <td>10750</td>\n",
       "      <td>0.0</td>\n",
       "      <td>1</td>\n",
       "      <td>1</td>\n",
       "      <td>1</td>\n",
       "      <td>0</td>\n",
       "      <td>312.0</td>\n",
       "      <td>360.0</td>\n",
       "      <td>Y</td>\n",
       "      <td>1</td>\n",
       "      <td>0</td>\n",
       "      <td>0</td>\n",
       "    </tr>\n",
       "    <tr>\n",
       "      <th>442</th>\n",
       "      <td>4707</td>\n",
       "      <td>1993.0</td>\n",
       "      <td>1</td>\n",
       "      <td>3</td>\n",
       "      <td>0</td>\n",
       "      <td>0</td>\n",
       "      <td>148.0</td>\n",
       "      <td>360.0</td>\n",
       "      <td>Y</td>\n",
       "      <td>0</td>\n",
       "      <td>2</td>\n",
       "      <td>0</td>\n",
       "    </tr>\n",
       "    <tr>\n",
       "      <th>518</th>\n",
       "      <td>4683</td>\n",
       "      <td>1915.0</td>\n",
       "      <td>1</td>\n",
       "      <td>0</td>\n",
       "      <td>1</td>\n",
       "      <td>0</td>\n",
       "      <td>185.0</td>\n",
       "      <td>360.0</td>\n",
       "      <td>N</td>\n",
       "      <td>0</td>\n",
       "      <td>2</td>\n",
       "      <td>0</td>\n",
       "    </tr>\n",
       "    <tr>\n",
       "      <th>90</th>\n",
       "      <td>2958</td>\n",
       "      <td>2900.0</td>\n",
       "      <td>1</td>\n",
       "      <td>0</td>\n",
       "      <td>1</td>\n",
       "      <td>0</td>\n",
       "      <td>131.0</td>\n",
       "      <td>360.0</td>\n",
       "      <td>Y</td>\n",
       "      <td>1</td>\n",
       "      <td>2</td>\n",
       "      <td>0</td>\n",
       "    </tr>\n",
       "    <tr>\n",
       "      <th>476</th>\n",
       "      <td>6700</td>\n",
       "      <td>1750.0</td>\n",
       "      <td>1</td>\n",
       "      <td>2</td>\n",
       "      <td>1</td>\n",
       "      <td>0</td>\n",
       "      <td>230.0</td>\n",
       "      <td>300.0</td>\n",
       "      <td>Y</td>\n",
       "      <td>1</td>\n",
       "      <td>2</td>\n",
       "      <td>0</td>\n",
       "    </tr>\n",
       "  </tbody>\n",
       "</table>\n",
       "</div>"
      ],
      "text/plain": [
       "     ApplicantIncome  CoapplicantIncome  Credit_History  Dependents  \\\n",
       "67             10750                0.0               1           1   \n",
       "442             4707             1993.0               1           3   \n",
       "518             4683             1915.0               1           0   \n",
       "90              2958             2900.0               1           0   \n",
       "476             6700             1750.0               1           2   \n",
       "\n",
       "     Education  Gender  LoanAmount  Loan_Amount_Term Loan_Status  Married  \\\n",
       "67           1       0       312.0             360.0           Y        1   \n",
       "442          0       0       148.0             360.0           Y        0   \n",
       "518          1       0       185.0             360.0           N        0   \n",
       "90           1       0       131.0             360.0           Y        1   \n",
       "476          1       0       230.0             300.0           Y        1   \n",
       "\n",
       "     Property_Area  Self_Employed  \n",
       "67               0              0  \n",
       "442              2              0  \n",
       "518              2              0  \n",
       "90               2              0  \n",
       "476              2              0  "
      ]
     },
     "execution_count": 15,
     "metadata": {},
     "output_type": "execute_result"
    }
   ],
   "source": [
    "df.sample(5)"
   ]
  },
  {
   "cell_type": "code",
   "execution_count": 16,
   "id": "d0deac9d",
   "metadata": {},
   "outputs": [],
   "source": [
    "df['Loan_Status'] = df['Loan_Status'].map({\"N\":0,\"Y\":1}).astype(int)"
   ]
  },
  {
   "cell_type": "code",
   "execution_count": 17,
   "id": "1dd33fd2",
   "metadata": {
    "scrolled": false
   },
   "outputs": [
    {
     "data": {
      "text/plain": [
       "ApplicantIncome        int64\n",
       "CoapplicantIncome    float64\n",
       "Credit_History         int32\n",
       "Dependents             int32\n",
       "Education              int32\n",
       "Gender                 int32\n",
       "LoanAmount           float64\n",
       "Loan_Amount_Term     float64\n",
       "Loan_Status            int32\n",
       "Married                int32\n",
       "Property_Area          int32\n",
       "Self_Employed          int32\n",
       "dtype: object"
      ]
     },
     "execution_count": 17,
     "metadata": {},
     "output_type": "execute_result"
    }
   ],
   "source": [
    "df.dtypes"
   ]
  },
  {
   "cell_type": "markdown",
   "id": "ecffb7a4",
   "metadata": {},
   "source": [
    "# Building Machine Learning Model:\n",
    "Creating X (input variables) and Y (Target Variable) from the new_train data."
   ]
  },
  {
   "cell_type": "code",
   "execution_count": 18,
   "id": "bed4d997",
   "metadata": {
    "scrolled": true
   },
   "outputs": [
    {
     "data": {
      "text/plain": [
       "1    0.687296\n",
       "0    0.312704\n",
       "Name: Loan_Status, dtype: float64"
      ]
     },
     "execution_count": 18,
     "metadata": {},
     "output_type": "execute_result"
    }
   ],
   "source": [
    "# Normalize can be set to True to print proportions instead of number \n",
    "df['Loan_Status'].value_counts(normalize=True)"
   ]
  },
  {
   "cell_type": "code",
   "execution_count": 19,
   "id": "5fe4cfd0",
   "metadata": {},
   "outputs": [],
   "source": [
    "X = df.drop(\"Loan_Status\", axis = 1)\n",
    "y= df['Loan_Status']"
   ]
  },
  {
   "cell_type": "code",
   "execution_count": 20,
   "id": "461e8f08",
   "metadata": {
    "scrolled": true
   },
   "outputs": [
    {
     "data": {
      "text/plain": [
       "(614, 11)"
      ]
     },
     "execution_count": 20,
     "metadata": {},
     "output_type": "execute_result"
    }
   ],
   "source": [
    "X.shape"
   ]
  },
  {
   "cell_type": "code",
   "execution_count": 21,
   "id": "bc2c0f83",
   "metadata": {},
   "outputs": [],
   "source": [
    "from sklearn.model_selection import train_test_split\n",
    "\n",
    "X_train, X_test, y_train, y_test =train_test_split(X,y,test_size=0.3)"
   ]
  },
  {
   "cell_type": "code",
   "execution_count": 22,
   "id": "7e377a46",
   "metadata": {},
   "outputs": [
    {
     "data": {
      "text/plain": [
       "(429, 11)"
      ]
     },
     "execution_count": 22,
     "metadata": {},
     "output_type": "execute_result"
    }
   ],
   "source": [
    "X_train.shape"
   ]
  },
  {
   "cell_type": "code",
   "execution_count": 23,
   "id": "28ad5fd5",
   "metadata": {},
   "outputs": [
    {
     "data": {
      "text/plain": [
       "(185, 11)"
      ]
     },
     "execution_count": 23,
     "metadata": {},
     "output_type": "execute_result"
    }
   ],
   "source": [
    "X_test.shape"
   ]
  },
  {
   "cell_type": "markdown",
   "id": "908e1264",
   "metadata": {},
   "source": [
    "# Using ML algorithm for training"
   ]
  },
  {
   "cell_type": "markdown",
   "id": "ca197988",
   "metadata": {},
   "source": [
    "# Logistic Regression"
   ]
  },
  {
   "cell_type": "code",
   "execution_count": 24,
   "id": "314eece4",
   "metadata": {},
   "outputs": [
    {
     "data": {
      "text/plain": [
       "array([0.7972028 , 0.85314685, 0.8041958 ])"
      ]
     },
     "execution_count": 24,
     "metadata": {},
     "output_type": "execute_result"
    }
   ],
   "source": [
    "log_crf = LogisticRegression()\n",
    "from sklearn.model_selection import cross_val_score\n",
    "cross_val_score(log_crf,X_train,y_train, scoring=make_scorer(accuracy_score), cv=3)"
   ]
  },
  {
   "cell_type": "code",
   "execution_count": 25,
   "id": "25305bab",
   "metadata": {},
   "outputs": [
    {
     "data": {
      "text/plain": [
       "0.7891891891891892"
      ]
     },
     "execution_count": 25,
     "metadata": {},
     "output_type": "execute_result"
    }
   ],
   "source": [
    "pred = log_crf.fit(X_train,y_train).predict(X_test)\n",
    "accuracy_score(pred,y_test)"
   ]
  },
  {
   "cell_type": "code",
   "execution_count": 26,
   "id": "97ea3b6a",
   "metadata": {
    "scrolled": true
   },
   "outputs": [
    {
     "data": {
      "text/plain": [
       "212    1\n",
       "27     1\n",
       "414    0\n",
       "143    1\n",
       "573    0\n",
       "26     1\n",
       "209    0\n",
       "539    1\n",
       "257    0\n",
       "599    1\n",
       "Name: Loan_Status, dtype: int32"
      ]
     },
     "execution_count": 26,
     "metadata": {},
     "output_type": "execute_result"
    }
   ],
   "source": [
    "y_test.head(10)"
   ]
  },
  {
   "cell_type": "code",
   "execution_count": 27,
   "id": "dd27e0c3",
   "metadata": {},
   "outputs": [
    {
     "data": {
      "text/plain": [
       "array([1, 1, 0, 1, 1, 1, 1, 1, 1, 1])"
      ]
     },
     "execution_count": 27,
     "metadata": {},
     "output_type": "execute_result"
    }
   ],
   "source": [
    "pred[:10]"
   ]
  },
  {
   "cell_type": "markdown",
   "id": "57ffb26d",
   "metadata": {},
   "source": [
    "As seen below the data set is imbalanced dataset.\n",
    "\n",
    "Hence, can try out SMOTEENN (UpSampling + ENN)"
   ]
  },
  {
   "cell_type": "code",
   "execution_count": 28,
   "id": "194a82c5",
   "metadata": {
    "scrolled": true
   },
   "outputs": [
    {
     "data": {
      "text/plain": [
       "1    0.687296\n",
       "0    0.312704\n",
       "Name: Loan_Status, dtype: float64"
      ]
     },
     "execution_count": 28,
     "metadata": {},
     "output_type": "execute_result"
    }
   ],
   "source": [
    "df['Loan_Status'].value_counts(normalize=True)"
   ]
  },
  {
   "cell_type": "code",
   "execution_count": 29,
   "id": "a0e13825",
   "metadata": {},
   "outputs": [],
   "source": [
    "sm = SMOTEENN()\n",
    "X_resampled, y_resampled = sm.fit_sample(X,y)"
   ]
  },
  {
   "cell_type": "code",
   "execution_count": 30,
   "id": "11f8837c",
   "metadata": {},
   "outputs": [],
   "source": [
    "xr_train,xr_test,yr_train,yr_test=train_test_split(X_resampled, y_resampled,test_size=0.3)"
   ]
  },
  {
   "cell_type": "code",
   "execution_count": 31,
   "id": "43bc3677",
   "metadata": {},
   "outputs": [
    {
     "data": {
      "text/plain": [
       "array([0.84375   , 0.796875  , 0.66666667])"
      ]
     },
     "execution_count": 31,
     "metadata": {},
     "output_type": "execute_result"
    }
   ],
   "source": [
    "log_crf_sm = LogisticRegression()\n",
    "\n",
    "cross_val_score(log_crf_sm,xr_train,yr_train, scoring=make_scorer(accuracy_score), cv=3)"
   ]
  },
  {
   "cell_type": "code",
   "execution_count": 32,
   "id": "60593450",
   "metadata": {},
   "outputs": [
    {
     "data": {
      "text/plain": [
       "0.7349397590361446"
      ]
     },
     "execution_count": 32,
     "metadata": {},
     "output_type": "execute_result"
    }
   ],
   "source": [
    "pred_s = log_crf_sm.fit(xr_train,yr_train).predict(xr_test)\n",
    "accuracy_score(pred_s,yr_test)"
   ]
  },
  {
   "cell_type": "markdown",
   "id": "7ec7d4f6",
   "metadata": {},
   "source": [
    "Seems our smoteenn is not improving our model hence we retain por original logistic model"
   ]
  },
  {
   "cell_type": "markdown",
   "id": "75242d35",
   "metadata": {},
   "source": [
    "# Saving the model for reuse"
   ]
  },
  {
   "cell_type": "code",
   "execution_count": 33,
   "id": "bc33d4c5",
   "metadata": {},
   "outputs": [],
   "source": [
    "import pickle\n",
    "with open('loan_approval_model.pickle','wb') as f:\n",
    "    pickle.dump(log_crf,f)"
   ]
  },
  {
   "cell_type": "code",
   "execution_count": 34,
   "id": "3758c3bb",
   "metadata": {},
   "outputs": [
    {
     "data": {
      "text/html": [
       "<div>\n",
       "<style scoped>\n",
       "    .dataframe tbody tr th:only-of-type {\n",
       "        vertical-align: middle;\n",
       "    }\n",
       "\n",
       "    .dataframe tbody tr th {\n",
       "        vertical-align: top;\n",
       "    }\n",
       "\n",
       "    .dataframe thead th {\n",
       "        text-align: right;\n",
       "    }\n",
       "</style>\n",
       "<table border=\"1\" class=\"dataframe\">\n",
       "  <thead>\n",
       "    <tr style=\"text-align: right;\">\n",
       "      <th></th>\n",
       "      <th>ApplicantIncome</th>\n",
       "      <th>CoapplicantIncome</th>\n",
       "      <th>Credit_History</th>\n",
       "      <th>Dependents</th>\n",
       "      <th>Education</th>\n",
       "      <th>Gender</th>\n",
       "      <th>LoanAmount</th>\n",
       "      <th>Loan_Amount_Term</th>\n",
       "      <th>Loan_Status</th>\n",
       "      <th>Married</th>\n",
       "      <th>Property_Area</th>\n",
       "      <th>Self_Employed</th>\n",
       "    </tr>\n",
       "  </thead>\n",
       "  <tbody>\n",
       "    <tr>\n",
       "      <th>0</th>\n",
       "      <td>5849</td>\n",
       "      <td>0.0</td>\n",
       "      <td>1</td>\n",
       "      <td>0</td>\n",
       "      <td>1</td>\n",
       "      <td>0</td>\n",
       "      <td>147.112198</td>\n",
       "      <td>360.0</td>\n",
       "      <td>1</td>\n",
       "      <td>0</td>\n",
       "      <td>0</td>\n",
       "      <td>0</td>\n",
       "    </tr>\n",
       "    <tr>\n",
       "      <th>1</th>\n",
       "      <td>4583</td>\n",
       "      <td>1508.0</td>\n",
       "      <td>1</td>\n",
       "      <td>1</td>\n",
       "      <td>1</td>\n",
       "      <td>0</td>\n",
       "      <td>128.000000</td>\n",
       "      <td>360.0</td>\n",
       "      <td>0</td>\n",
       "      <td>1</td>\n",
       "      <td>1</td>\n",
       "      <td>0</td>\n",
       "    </tr>\n",
       "  </tbody>\n",
       "</table>\n",
       "</div>"
      ],
      "text/plain": [
       "   ApplicantIncome  CoapplicantIncome  Credit_History  Dependents  Education  \\\n",
       "0             5849                0.0               1           0          1   \n",
       "1             4583             1508.0               1           1          1   \n",
       "\n",
       "   Gender  LoanAmount  Loan_Amount_Term  Loan_Status  Married  Property_Area  \\\n",
       "0       0  147.112198             360.0            1        0              0   \n",
       "1       0  128.000000             360.0            0        1              1   \n",
       "\n",
       "   Self_Employed  \n",
       "0              0  \n",
       "1              0  "
      ]
     },
     "execution_count": 34,
     "metadata": {},
     "output_type": "execute_result"
    }
   ],
   "source": [
    "df.head(2)"
   ]
  }
 ],
 "metadata": {
  "kernelspec": {
   "display_name": "Python 3 (ipykernel)",
   "language": "python",
   "name": "python3"
  },
  "language_info": {
   "codemirror_mode": {
    "name": "ipython",
    "version": 3
   },
   "file_extension": ".py",
   "mimetype": "text/x-python",
   "name": "python",
   "nbconvert_exporter": "python",
   "pygments_lexer": "ipython3",
   "version": "3.9.7"
  }
 },
 "nbformat": 4,
 "nbformat_minor": 5
}
